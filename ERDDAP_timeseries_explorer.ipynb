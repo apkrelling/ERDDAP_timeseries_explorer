{
 "cells": [
  {
   "cell_type": "markdown",
   "metadata": {},
   "source": [
    "# Explore ERDDAP timeseries data using Jupyter Widgets\n",
    "Inspired by [Jason Grout's excellent ESIP Tech Dive talk on \"Jupyter Widgets\"](https://youtu.be/CVcrTRQkTxo?t=2596), this notebook uses the `ipyleaflet` and `bqplot` widgets\n",
    "to interactively explore the last two weeks of time series data from an ERDDAP Server. Select a `standard_name` from the list, then click a station to see the time series.  "
   ]
  },
  {
   "cell_type": "code",
   "execution_count": null,
   "metadata": {
    "ExecuteTime": {
     "end_time": "2017-12-12T22:59:37.291663Z",
     "start_time": "2017-12-12T22:59:34.813470Z"
    }
   },
   "outputs": [],
   "source": [
    "import ipywidgets as ipyw"
   ]
  },
  {
   "cell_type": "code",
   "execution_count": null,
   "metadata": {},
   "outputs": [],
   "source": [
    "from erddap_app.plots import (get_valid_stdnames,\n",
    "                              plot_datasets,\n",
    "                              plot_timeseries,\n",
    "                              space,\n",
    "                             )"
   ]
  },
  {
   "cell_type": "code",
   "execution_count": null,
   "metadata": {},
   "outputs": [],
   "source": [
    "from erddap_app.widgets import (widget_replot_button_handler,\n",
    "                                widget_search_button_handler,\n",
    "                                f_widget_std_names,\n",
    "                                f_widget_search_min_time,\n",
    "                                f_widget_search_max_time,\n",
    "                                widget_search_button,\n",
    "                                f_widget_plot_start_time,\n",
    "                                f_widget_plot_stop_time,\n",
    "                                widget_replot_button,\n",
    "                                f_widget_dsnames,\n",
    "                                map_click_handler,\n",
    "                               )"
   ]
  },
  {
   "cell_type": "code",
   "execution_count": null,
   "metadata": {},
   "outputs": [],
   "source": [
    "server_name = \"neracoos\""
   ]
  },
  {
   "cell_type": "markdown",
   "metadata": {},
   "source": [
    "This cell identifies the valid standard names for the specified server"
   ]
  },
  {
   "cell_type": "code",
   "execution_count": null,
   "metadata": {},
   "outputs": [],
   "source": [
    "valid_standard_names, server, e = get_valid_stdnames(server_name)"
   ]
  },
  {
   "cell_type": "code",
   "execution_count": null,
   "metadata": {},
   "outputs": [],
   "source": [
    "widget_replot_button.on_click(widget_replot_button_handler)"
   ]
  },
  {
   "cell_type": "code",
   "execution_count": null,
   "metadata": {
    "ExecuteTime": {
     "end_time": "2017-12-12T22:59:38.736691Z",
     "start_time": "2017-12-12T22:59:38.728674Z"
    }
   },
   "outputs": [],
   "source": [
    "widget_search_button.on_click(widget_search_button_handler)"
   ]
  },
  {
   "cell_type": "code",
   "execution_count": null,
   "metadata": {},
   "outputs": [],
   "source": [
    "map, feature_layer, datasets = plot_datasets(server, e)\n",
    "figure = plot_timeseries(server, e, datasets[0])"
   ]
  },
  {
   "cell_type": "code",
   "execution_count": null,
   "metadata": {},
   "outputs": [],
   "source": [
    "widget_std_names = f_widget_std_names(server, valid_standard_names)\n",
    "widget_search_min_time = f_widget_search_min_time(server)\n",
    "widget_search_max_time = f_widget_search_max_time(server)\n",
    "widget_plot_start_time = f_widget_plot_start_time(server)\n",
    "widget_plot_stop_time = f_widget_plot_stop_time(server)\n",
    "widget_dsnames = f_widget_dsnames(datasets)"
   ]
  },
  {
   "cell_type": "code",
   "execution_count": null,
   "metadata": {},
   "outputs": [],
   "source": [
    "ispace = space()"
   ]
  },
  {
   "cell_type": "markdown",
   "metadata": {},
   "source": [
    "This specifies the widget layout"
   ]
  },
  {
   "cell_type": "code",
   "execution_count": null,
   "metadata": {
    "ExecuteTime": {
     "end_time": "2017-12-12T22:59:43.460591Z",
     "start_time": "2017-12-12T22:59:43.181005Z"
    },
    "scrolled": false
   },
   "outputs": [],
   "source": [
    "form_item_layout = ipyw.Layout(\n",
    "    display=\"flex\", flex_flow=\"column\", justify_content=\"space-between\"\n",
    ")\n",
    "\n",
    "col1 = ipyw.Box([map, figure], layout=form_item_layout)\n",
    "col2 = ipyw.Box(\n",
    "    [\n",
    "        widget_std_names,\n",
    "        widget_search_min_time,\n",
    "        widget_search_max_time,\n",
    "        widget_search_button,\n",
    "        ispace,\n",
    "        widget_dsnames,\n",
    "        widget_plot_start_time,\n",
    "        widget_plot_stop_time,\n",
    "        widget_replot_button,\n",
    "    ],\n",
    "    layout=form_item_layout,\n",
    ")\n",
    "\n",
    "form_items = [col1, col2]\n",
    "\n",
    "form = ipyw.Box(\n",
    "    form_items,\n",
    "    layout=ipyw.Layout(\n",
    "        display=\"flex\",\n",
    "        flex_flow=\"row\",\n",
    "        border=\"solid 2px\",\n",
    "        align_items=\"flex-start\",\n",
    "        width=\"100%\",\n",
    "    ),\n",
    ")\n",
    "\n",
    "form"
   ]
  }
 ],
 "metadata": {
  "kernelspec": {
   "display_name": "Python4widgets",
   "language": "python",
   "name": "widgets"
  },
  "language_info": {
   "codemirror_mode": {
    "name": "ipython",
    "version": 3
   },
   "file_extension": ".py",
   "mimetype": "text/x-python",
   "name": "python",
   "nbconvert_exporter": "python",
   "pygments_lexer": "ipython3",
   "version": "3.8.10"
  }
 },
 "nbformat": 4,
 "nbformat_minor": 2
}
